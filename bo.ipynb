{
 "cells": [
  {
   "cell_type": "code",
   "execution_count": 4,
   "source": [
    "from bayes_opt.event import DEFAULT_EVENTS, Events\r\n",
    "from bayes_opt import BayesianOptimization\r\n",
    "from bayes_opt import UtilityFunction"
   ],
   "outputs": [],
   "metadata": {}
  },
  {
   "cell_type": "code",
   "execution_count": 3,
   "source": [
    "def black_box_function(x,y):\r\n",
    "    return -x ** 2 - (y - 1) ** 2 + 1"
   ],
   "outputs": [],
   "metadata": {}
  },
  {
   "cell_type": "code",
   "execution_count": 11,
   "source": [
    "optimizer = BayesianOptimization(\r\n",
    "    f=None,\r\n",
    "    pbounds={'x': (-2, 2), 'y': (-3, 3)},\r\n",
    "    verbose=2,\r\n",
    "    random_state=1)\r\n",
    "\r\n",
    "utility = UtilityFunction(kind=\"ucb\", kappa=2.5, xi=0.0)\r\n",
    "for _ in range(5):\r\n",
    "    next_point = optimizer.suggest(utility)\r\n",
    "    target = black_box_function(**next_point)\r\n",
    "    optimizer.register(params=next_point, target=target)\r\n",
    "    print(next_point, target)\r\n",
    "print(optimizer.max)"
   ],
   "outputs": [
    {
     "output_type": "stream",
     "name": "stdout",
     "text": [
      "{'x': -0.331911981189704, 'y': 1.3219469606529488} 0.7861845912690542\n",
      "{'x': 1.8861546000771092, 'y': -2.9917780942581977} -18.49187152919165\n",
      "{'x': -0.31764604716962586, 'y': 1.3285597809731806} 0.7911494590443674\n",
      "{'x': -0.4230610781116192, 'y': 1.6179518884037527} 0.4391547878052704\n",
      "{'x': -0.08807961640682287, 'y': 0.9974804423617645} 0.9922356330029346\n",
      "{'target': 0.9922356330029346, 'params': {'x': -0.08807961640682287, 'y': 0.9974804423617645}}\n"
     ]
    }
   ],
   "metadata": {}
  },
  {
   "cell_type": "code",
   "execution_count": 20,
   "source": [
    "def func_with_discrete_params(x, y, d):\r\n",
    "    # 模拟 d 离散的必要\r\n",
    "    assert type(d) == int\r\n",
    "    return ((x+y+d) // (1+d) / (1+(x+y)**2))\r\n",
    "\r\n",
    "\r\n",
    "def function_to_be_optimized(x, y, w):\r\n",
    "    d = int(w)\r\n",
    "    return func_with_discrete_params(x, y, d)\r\n",
    "\r\n",
    "\r\n",
    "optimizer = BayesianOptimization(f=function_to_be_optimized, pbounds={\r\n",
    "                                 'x': (-10, 10), 'y': (-10, 10), 'w': (0, 5)}, verbose=2, random_state=1)\r\n",
    "\r\n",
    "optimizer.maximize(alpha=1e-3, n_iter=0)\r\n",
    "optimizer.max"
   ],
   "outputs": [
    {
     "output_type": "stream",
     "name": "stdout",
     "text": [
      "|   iter    |  target   |     w     |     x     |     y     |\n",
      "-------------------------------------------------------------\n",
      "| \u001b[0m 1       \u001b[0m | \u001b[0m-0.06199 \u001b[0m | \u001b[0m 2.085   \u001b[0m | \u001b[0m 4.406   \u001b[0m | \u001b[0m-9.998   \u001b[0m |\n",
      "| \u001b[95m 2       \u001b[0m | \u001b[95m-0.0344  \u001b[0m | \u001b[95m 1.512   \u001b[0m | \u001b[95m-7.065   \u001b[0m | \u001b[95m-8.153   \u001b[0m |\n",
      "| \u001b[0m 3       \u001b[0m | \u001b[0m-0.2177  \u001b[0m | \u001b[0m 0.9313  \u001b[0m | \u001b[0m-3.089   \u001b[0m | \u001b[0m-2.065   \u001b[0m |\n",
      "| \u001b[95m 4       \u001b[0m | \u001b[95m 0.1865  \u001b[0m | \u001b[95m 2.694   \u001b[0m | \u001b[95m-1.616   \u001b[0m | \u001b[95m 3.704   \u001b[0m |\n",
      "| \u001b[0m 5       \u001b[0m | \u001b[0m-0.2187  \u001b[0m | \u001b[0m 1.022   \u001b[0m | \u001b[0m 7.562   \u001b[0m | \u001b[0m-9.452   \u001b[0m |\n",
      "=============================================================\n"
     ]
    },
    {
     "output_type": "execute_result",
     "data": {
      "text/plain": [
       "{'target': 0.1865353350331132,\n",
       " 'params': {'w': 2.6940836700167847,\n",
       "  'x': -1.6161097119341044,\n",
       "  'y': 3.7043900079351904}}"
      ]
     },
     "metadata": {},
     "execution_count": 20
    }
   ],
   "metadata": {}
  },
  {
   "cell_type": "code",
   "execution_count": null,
   "source": [],
   "outputs": [],
   "metadata": {}
  }
 ],
 "metadata": {
  "orig_nbformat": 4,
  "language_info": {
   "name": "python",
   "version": "3.7.5",
   "mimetype": "text/x-python",
   "codemirror_mode": {
    "name": "ipython",
    "version": 3
   },
   "pygments_lexer": "ipython3",
   "nbconvert_exporter": "python",
   "file_extension": ".py"
  },
  "kernelspec": {
   "name": "python3",
   "display_name": "Python 3.7.5 64-bit (system)"
  },
  "interpreter": {
   "hash": "a7420a20f2908a5a5b62d9fc1139c32cbeb56918583f5fc6b3eccfeb35d4d622"
  }
 },
 "nbformat": 4,
 "nbformat_minor": 2
}